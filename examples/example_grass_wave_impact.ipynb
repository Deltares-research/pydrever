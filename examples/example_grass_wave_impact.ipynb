{
 "cells": [
  {
   "cell_type": "markdown",
   "metadata": {},
   "source": [
    "# Grass wave impact example\n",
    "\n",
    "This tutorial shows how to setup, run and analyse a wave impact calculation with DiKErnel using the dikerosion python toolbox. It deals with:\n",
    "1. [Specifying schematization](#Dike-profile-schematization)\n",
    "1. [Hydrodynamic conditions](#hydrodynamic-conditions)\n",
    "1. [Output location](#Define-calculation-output) for wave impact calculations on a grass revetment\n",
    "1. [Performing a calculation](#Start-the-calculation)\n",
    "1. [Analysing wave impact calculation results](#Analyse-results)\n",
    "\n",
    "<div class=\"alert alert-block alert-info\">\n",
    "<b>Not necessary:</b> The following code makes sure that also during development the toolbox can be adressed properly.\n",
    "</div>"
   ]
  },
  {
   "cell_type": "code",
   "execution_count": 1,
   "metadata": {},
   "outputs": [],
   "source": [
    "import sys\n",
    "import os\n",
    "\n",
    "sys.path.append(os.path.dirname(os.getcwd()))"
   ]
  },
  {
   "cell_type": "markdown",
   "metadata": {},
   "source": [
    "## Dike profile schematization\n",
    "First we need to define the dike geometry and roughnesses. In this simplified example we consider a dike with a slope of 1:3, reaching up to 10 meter above the reference level. The slope is considered to be very smooth (no roughness)"
   ]
  },
  {
   "cell_type": "code",
   "execution_count": 2,
   "metadata": {},
   "outputs": [],
   "source": [
    "from pydrever.data import DikeSchematization\n",
    "\n",
    "x_positions = [0.0, 30.0]\n",
    "z_positions = [0.0, 10.0]\n",
    "roughnesses = [1]\n",
    "schematization = DikeSchematization(\n",
    "    dike_orientation=0.0, \n",
    "    x_positions=x_positions, \n",
    "    z_positions=z_positions, \n",
    "    roughnesses=roughnesses, \n",
    "    x_outer_toe=0.0, \n",
    "    x_outer_crest=30.0\n",
    ")"
   ]
  },
  {
   "cell_type": "markdown",
   "metadata": {},
   "source": [
    "## Hydrodynamic conditions\n",
    "In this example we consider a forcing with constant hydrodynamic conditions for 1 hour (3600 seconds) with a water level half way the slope (at 5.0 above the reference level) and waves of $H_s$=1.25m and $T_p$=5.3s. The wave direction is slightly (15 degrees) oblique."
   ]
  },
  {
   "cell_type": "code",
   "execution_count": 3,
   "metadata": {},
   "outputs": [],
   "source": [
    "from pydrever.data import HydrodynamicConditions\n",
    "\n",
    "hydrodynamic_conditions = HydrodynamicConditions(\n",
    "    time_steps=[0, 3600], \n",
    "    water_levels=[5.0], \n",
    "    wave_heights=[1.25], \n",
    "    wave_periods=[5.3], \n",
    "    wave_directions=[15.0]\n",
    ")"
   ]
  },
  {
   "cell_type": "markdown",
   "metadata": {},
   "source": [
    "## Define calculation output\n",
    "Now it is time to define which calculation should be performed. In this example we use a 'OutputLocationSpecification' to specify the desired calculation. The location is at the x-position of 15.0 meters cross-shore (so half way the slope at exactly the still water front). The top layer consists out of grass with a closed sod."
   ]
  },
  {
   "cell_type": "code",
   "execution_count": 4,
   "metadata": {},
   "outputs": [],
   "source": [
    "from pydrever.data import (\n",
    "    OutputLocationSpecification, \n",
    "    GrassWaveImpactLayerSpecification, \n",
    "    TopLayerType)\n",
    "\n",
    "output_location = OutputLocationSpecification(\n",
    "    top_layer_specification= GrassWaveImpactLayerSpecification(\n",
    "        top_layer_type=TopLayerType.GrassClosedSod\n",
    "        ),\n",
    "    x_position=15.0\n",
    ")"
   ]
  },
  {
   "cell_type": "markdown",
   "metadata": {},
   "source": [
    "## Start the calculation\n",
    "Next step is to construct the calculation input and start the calculation."
   ]
  },
  {
   "cell_type": "code",
   "execution_count": 5,
   "metadata": {},
   "outputs": [],
   "source": [
    "from pydrever.data import DikernelInput\n",
    "from pydrever.calculation import Dikernel\n",
    "\n",
    "input = DikernelInput(\n",
    "    dike_schematization=schematization,\n",
    "    hydrodynamic_input= hydrodynamic_conditions,\n",
    "    output_locations=[output_location]\n",
    ")\n",
    "\n",
    "calculation = Dikernel(input=input)\n",
    "result = calculation.run()"
   ]
  },
  {
   "cell_type": "markdown",
   "metadata": {},
   "source": [
    "## Analyse results\n",
    "First result of the run method is a bool that indicates whether the calculation was finished succesfully. In case it was not, the warning and error messages mostly give the information why the calculation did not finish."
   ]
  },
  {
   "cell_type": "code",
   "execution_count": 6,
   "metadata": {},
   "outputs": [],
   "source": [
    "if not result:\n",
    "    print (\"The run was unsuccesful:\")\n",
    "    for m in calculation.errors:\n",
    "        print(\"  %s\" % (m,))"
   ]
  },
  {
   "cell_type": "markdown",
   "metadata": {},
   "source": [
    "In case of a succesful calculation, the output property of the Dikernel object contains a list with output (locations) for each of the specified calculation locations. In this case it contains only one result for the location at a cross-shore distance of 15.0 meter.\n",
    "\n",
    "All output locations have general information stating whether the revetment failed as a consequence of the hydrodynamic forcing. In case it failed, the locations also present the 'time_of_failure' additional to the calculated 'final_damage'. Also the development of the damage (and damage increment for each time step) can be found."
   ]
  },
  {
   "cell_type": "code",
   "execution_count": 7,
   "metadata": {},
   "outputs": [
    {
     "name": "stdout",
     "output_type": "stream",
     "text": [
      "  Just some damage, the revetment did not fail.\n",
      "  Final damage number: 1.21\n"
     ]
    }
   ],
   "source": [
    "if calculation.output[0].failed:\n",
    "    print(\"  The revetment failed at %d [s]\" % (calculation.output[0].time_of_failure,))\n",
    "else:\n",
    "    print(\"  Just some damage, the revetment did not fail.\")\n",
    "print(\"  Final damage number: %0.2f\" % (calculation.output[0].final_damage,))"
   ]
  },
  {
   "cell_type": "markdown",
   "metadata": {},
   "source": [
    "Other properties are more specific to the type of calculation that was performed (wave impact on a grass revetment in this case). The code below gives an overview of the results of the calculation:"
   ]
  },
  {
   "cell_type": "code",
   "execution_count": 8,
   "metadata": {},
   "outputs": [
    {
     "name": "stdout",
     "output_type": "stream",
     "text": [
      "x_position: 15.0\n",
      "time_of_failure: None\n",
      "damage_development: [1.2079255643374318]\n",
      "damage_increment: [1.2079255643374318]\n",
      "z_position: 5.0\n",
      "minimum_wave_height: 0.2500000000000006\n",
      "maximum_wave_height: 1.2499650014124648\n",
      "loading_revetment: [1.0]\n",
      "upper_limit_loading: [5.0]\n",
      "lower_limit_loading: [4.375]\n",
      "wave_angle: [15.0]\n",
      "wave_angle_impact: [0.9771528853077257]\n",
      "wave_height_impact: [1.221441106634657]\n",
      "\n"
     ]
    }
   ],
   "source": [
    "props = vars(calculation.output[0])\n",
    "print(''.join(\"%s: %s\\n\" % item for item in props.items()))"
   ]
  }
 ],
 "metadata": {
  "kernelspec": {
   "display_name": "pydrever",
   "language": "python",
   "name": "python3"
  },
  "language_info": {
   "codemirror_mode": {
    "name": "ipython",
    "version": 3
   },
   "file_extension": ".py",
   "mimetype": "text/x-python",
   "name": "python",
   "nbconvert_exporter": "python",
   "pygments_lexer": "ipython3",
   "version": "3.10.14"
  }
 },
 "nbformat": 4,
 "nbformat_minor": 2
}

{
 "cells": [
  {
   "cell_type": "markdown",
   "id": "1ec7b802",
   "metadata": {},
   "source": [
    "# Example of how to perform parrallel calculations with DiKErnel\n",
    "\n",
    "This tutorial shows how to setup, run and analyse the speed of a DiKErnel calculation using pydrever. It deals with:\n",
    "1. [Specifying calculation input](#calculation-input)\n",
    "2. [Create a calculator object](#create-calculator)\n",
    "3. [Measure calculation performance](#measure-performance)\n",
    "4. [Switch between parallel and serial calculations](#switch-parallel)\n",
    "\n",
    "\n",
    "<div class=\"alert alert-block alert-info\">\n",
    "<b>Not necessary:</b> The following code makes sure that also during development pydrever can be adressed properly.\n",
    "</div>"
   ]
  },
  {
   "cell_type": "code",
   "execution_count": 1,
   "id": "cfa085ce",
   "metadata": {},
   "outputs": [],
   "source": [
    "import sys\n",
    "import os\n",
    "\n",
    "sys.path.append(os.path.dirname(os.getcwd()))"
   ]
  },
  {
   "cell_type": "markdown",
   "id": "91dc06ea",
   "metadata": {},
   "source": [
    "# Calculation input <a id=\"calculation-input\"></a>\n",
    "This is an example"
   ]
  },
  {
   "cell_type": "code",
   "execution_count": 2,
   "id": "f3e40da2",
   "metadata": {},
   "outputs": [],
   "source": [
    "import pydrever.data as data\n",
    "\n",
    "x_positions = [0.0, 25.0, 35.0, 41.0, 45, 50, 60, 70]\n",
    "z_positions = [-3, 0.0, 1.5, 1.7, 3.0, 3.1, 0, -1]\n",
    "roughnesses = [1, 1, 0.75, 0.5, 0.8, 0.8, 0.8]\n",
    "dike_schematization = data.DikeSchematization(\n",
    "    dike_orientation=90.0, \n",
    "    x_positions=x_positions, \n",
    "    z_positions=z_positions, \n",
    "    roughnesses=roughnesses, \n",
    "    x_outer_toe=25.0, \n",
    "    x_outer_crest=45.0,\n",
    "    foreshore_slope=0.05,\n",
    "    z_bottom=-3\n",
    ")"
   ]
  },
  {
   "cell_type": "code",
   "execution_count": 3,
   "id": "35768166",
   "metadata": {},
   "outputs": [],
   "source": [
    "import numpy\n",
    "from pydrever.data import HydrodynamicConditions\n",
    "\n",
    "def create_hydrodynamic_conditions(n_steps:int = 100) -> HydrodynamicConditions:\n",
    "    time_steps = numpy.linspace(\n",
    "        0.0, 126000.0, int(126000.0 / n_steps), dtype=float, endpoint=True\n",
    "    )\n",
    "\n",
    "    phase_water_levels = numpy.pi / 64.0\n",
    "    amplitude_water_levels = 1.3\n",
    "    minimum_water_level = 0.5\n",
    "    water_levels = (\n",
    "        amplitude_water_levels\n",
    "        * (1 - numpy.cos(time_steps[1:] / 1000.0 * phase_water_levels))\n",
    "        + minimum_water_level\n",
    "    )\n",
    "\n",
    "    phase_wave_heights = numpy.pi / 32.0\n",
    "    ampltude_waves = 0.2\n",
    "    minimum_wave_height = 0.8\n",
    "    wave_heights = (\n",
    "        ampltude_waves * (1 - numpy.cos(time_steps[1:] / 1000.0 * phase_wave_heights))\n",
    "        + minimum_wave_height\n",
    "    )\n",
    "\n",
    "    wave_periods = 7.0 + time_steps[1:] / 1000.0 * 0.05\n",
    "    \n",
    "    wave_directions = 10 + time_steps[1:] * 0.0\n",
    "\n",
    "    hydrodynamic_conditions = HydrodynamicConditions(\n",
    "        time_steps=time_steps.tolist(), \n",
    "        water_levels=water_levels.tolist(), \n",
    "        wave_heights=wave_heights.tolist(), \n",
    "        wave_periods=wave_periods.tolist(), \n",
    "        wave_directions=wave_directions.tolist()\n",
    "    )\n",
    "\n",
    "    return hydrodynamic_conditions\n",
    "\n",
    "hydrodynamic_conditions = create_hydrodynamic_conditions(100)"
   ]
  },
  {
   "cell_type": "code",
   "execution_count": null,
   "id": "927b413b",
   "metadata": {},
   "outputs": [],
   "source": []
  },
  {
   "cell_type": "code",
   "execution_count": 4,
   "id": "07083ef1",
   "metadata": {},
   "outputs": [],
   "source": [
    "grass_wave_runup_layer = data.GrassWaveRunupLayerSpecification(\n",
    "    outer_slope=0.3, \n",
    "    top_layer_type=data.TopLayerType.GrassClosedSod)\n",
    "\n",
    "def create_revetment_zone(nx:int=5):\n",
    "    return data.RevetmentZoneSpecification(\n",
    "        zone_definition=data.HorizontalRevetmentZoneDefinition(x_min=41.1, x_max=44.9, nx=nx), \n",
    "        top_layer_specification=grass_wave_runup_layer),\n",
    "\n",
    "revetmen_zone = create_revetment_zone(20)"
   ]
  },
  {
   "cell_type": "code",
   "execution_count": 5,
   "id": "98e40b46",
   "metadata": {},
   "outputs": [],
   "source": [
    "def create_calculation_input(\n",
    "        nx:int=10,\n",
    "        n_times:int=100\n",
    "        ):\n",
    "    input = data.DikernelInput(\n",
    "        dike_schematization=dike_schematization, \n",
    "        hydrodynamic_input=create_hydrodynamic_conditions(n_times)\n",
    "    )\n",
    "\n",
    "    input.output_revetment_zones = list(create_revetment_zone(nx))\n",
    "\n",
    "    return input"
   ]
  },
  {
   "cell_type": "markdown",
   "id": "5ad33768",
   "metadata": {},
   "source": [
    "# Create calculator <a id=\"create-calculator\"></a>"
   ]
  },
  {
   "cell_type": "code",
   "execution_count": 6,
   "id": "f69095ed",
   "metadata": {},
   "outputs": [],
   "source": [
    "from pydrever.calculation import Dikernel\n",
    "\n",
    "dikernel = Dikernel(create_calculation_input())\n",
    "\n",
    "dikernel.calculate_locations_parallel = True\n",
    "dikernel.calculate_time_steps_parallel = True"
   ]
  },
  {
   "cell_type": "markdown",
   "id": "eb6c9c3f",
   "metadata": {},
   "source": [
    "# Measure calculator performance <a id=\"measure-performance\"></a>"
   ]
  },
  {
   "cell_type": "code",
   "execution_count": 7,
   "id": "23c2f3d7",
   "metadata": {},
   "outputs": [],
   "source": [
    "import time\n",
    "\n",
    "def perform_timed_calculation(\n",
    "        nx:int = 5,\n",
    "        n_times:int = 100,\n",
    "        times_parallel = False,\n",
    "        locations_parallel = False\n",
    "):\n",
    "\n",
    "    input = create_calculation_input(nx=nx, n_times=n_times)\n",
    "    dikernel = Dikernel(input)\n",
    "    dikernel.calculate_time_steps_parallel = times_parallel\n",
    "    dikernel.calculate_time_steps_parallel = locations_parallel\n",
    "\n",
    "    start_time = time.time()\n",
    "\n",
    "    dikernel.run()\n",
    "\n",
    "    end_time = time.time()\n",
    "    return end_time - start_time\n",
    "\n"
   ]
  },
  {
   "cell_type": "markdown",
   "id": "07181a4c",
   "metadata": {},
   "source": [
    "# Switch between parallel and serial calculations <a id=\"switch-parallel\"></a>"
   ]
  },
  {
   "cell_type": "code",
   "execution_count": 8,
   "id": "6243f9e5",
   "metadata": {},
   "outputs": [
    {
     "name": "stdout",
     "output_type": "stream",
     "text": [
      "18.34024167060852\n",
      "1.817399501800537\n",
      "0.18733906745910645\n",
      "0.014938116073608398\n",
      "0.0\n",
      "17.863547801971436\n",
      "1.7996349334716797\n",
      "0.1892256736755371\n",
      "0.027189016342163086\n",
      "0.0\n",
      "43.477911710739136\n",
      "3.825951337814331\n",
      "0.31696557998657227\n",
      "0.03891158103942871\n",
      "0.0\n"
     ]
    }
   ],
   "source": [
    "print(perform_timed_calculation(n_times=10, nx=100))\n",
    "print(perform_timed_calculation(n_times=100, nx=100))\n",
    "print(perform_timed_calculation(n_times=1000, nx=100))\n",
    "print(perform_timed_calculation(n_times=10000, nx=100))\n",
    "print(perform_timed_calculation(n_times=100000, nx=100))\n",
    "\n",
    "print(perform_timed_calculation(n_times=10, nx=100, times_parallel=True))\n",
    "print(perform_timed_calculation(n_times=100, nx=100, times_parallel=True))\n",
    "print(perform_timed_calculation(n_times=1000, nx=100, times_parallel=True))\n",
    "print(perform_timed_calculation(n_times=10000, nx=100, times_parallel=True))\n",
    "print(perform_timed_calculation(n_times=100000, nx=100, times_parallel=True))\n",
    "\n",
    "print(perform_timed_calculation(n_times=10, nx=100, times_parallel=True, locations_parallel=True))\n",
    "print(perform_timed_calculation(n_times=100, nx=100, times_parallel=True, locations_parallel=True))\n",
    "print(perform_timed_calculation(n_times=1000, nx=100, times_parallel=True, locations_parallel=True))\n",
    "print(perform_timed_calculation(n_times=10000, nx=100, times_parallel=True, locations_parallel=True))\n",
    "print(perform_timed_calculation(n_times=100000, nx=100, times_parallel=True, locations_parallel=True))"
   ]
  }
 ],
 "metadata": {
  "kernelspec": {
   "display_name": "pydrever",
   "language": "python",
   "name": "python3"
  },
  "language_info": {
   "codemirror_mode": {
    "name": "ipython",
    "version": 3
   },
   "file_extension": ".py",
   "mimetype": "text/x-python",
   "name": "python",
   "nbconvert_exporter": "python",
   "pygments_lexer": "ipython3",
   "version": "3.10.14"
  }
 },
 "nbformat": 4,
 "nbformat_minor": 5
}
